{
 "cells": [
  {
   "cell_type": "code",
   "execution_count": null,
   "metadata": {},
   "outputs": [],
   "source": [
    "# import necessary libraries that will be used \n",
    "import pandas as pd\n",
    "import numpy as np\n",
    "import matplotlib\n",
    "from matplotlib import pyplot as plt\n",
    "%matplotlib inline"
   ]
  },
  {
   "cell_type": "code",
   "execution_count": null,
   "metadata": {},
   "outputs": [],
   "source": [
    "# read data into a pandas dataframe and define the names of the columns\n",
    "iris_df = pd.read_csv('iris.data', header = None, \n",
    "                      names = ['Sepal Length', 'Sepal Width', 'Petal Length', 'Petal Width', 'Class/Species'])"
   ]
  },
  {
   "cell_type": "code",
   "execution_count": null,
   "metadata": {},
   "outputs": [],
   "source": [
    "# convert the pandas dataframe to a two-dimensional array (N by p)\n",
    "iris_data_array = iris_df.to_numpy()"
   ]
  },
  {
   "cell_type": "code",
   "execution_count": null,
   "metadata": {},
   "outputs": [],
   "source": [
    "# extract the four numerical attributes from the two dimensional array and create a vector for each attribute\n",
    "sepal_length = iris_data_array[:,0]\n",
    "sepal_width = iris_data_array[:,1]\n",
    "petal_length = iris_data_array[:,2]\n",
    "petal_width = iris_data_array[:,3]\n",
    "\n",
    "# extract the descriptive class attribute from the two dimensional array and create a vector for it\n",
    "iris_class_labels = iris_data_array[:,4]"
   ]
  },
  {
   "cell_type": "code",
   "execution_count": null,
   "metadata": {},
   "outputs": [],
   "source": [
    "# create a vector to assign a corresponding color label to each of the unique iris class labels\n",
    "# this vector will be used for plotting purposes\n",
    "iris_class_colors = iris_class_labels\n",
    "iris_class_colors = np.where(iris_class_colors == 'Iris-setosa', 'r', iris_class_colors)\n",
    "iris_class_colors = np.where(iris_class_colors == 'Iris-versicolor', 'g', iris_class_colors)\n",
    "iris_class_colors = np.where(iris_class_colors == 'Iris-virginica', 'b', iris_class_colors)"
   ]
  },
  {
   "cell_type": "code",
   "execution_count": null,
   "metadata": {},
   "outputs": [],
   "source": [
    "# the following code creates 12 subplots that plot each of the 2-attribute x-y combinations \n",
    "# iris_class_colors is used to distinguish the different class labels in each plot \n",
    "# 2 seperate figures are created (6 subplots each) for aesthetic purposes \n",
    "fig = plt.figure(figsize=(18,12))\n",
    "fig.suptitle('Iris Data (Red = Iris-Setosa, Green = Iris-Versicolor, Blue = Iris-Virginica)', fontsize=24, y = 0.95)\n",
    "\n",
    "plt.subplot(2, 3, 1)\n",
    "plt.scatter(sepal_length, sepal_width , c = iris_class_colors)\n",
    "plt.xlabel('Sepal Length in cm', fontsize=12)\n",
    "plt.ylabel('Sepal Width in cm', fontsize=12)\n",
    "\n",
    "\n",
    "plt.subplot(2, 3, 2)\n",
    "plt.scatter(sepal_length, petal_length , c = iris_class_colors)\n",
    "plt.xlabel('Sepal Length in cm', fontsize=12)\n",
    "plt.ylabel('Petal Length in cm', fontsize=12)\n",
    "\n",
    "plt.subplot(2, 3, 3)\n",
    "plt.scatter(sepal_length, petal_width , c = iris_class_colors)\n",
    "plt.xlabel('Sepal Length in cm', fontsize=12)\n",
    "plt.ylabel('Petal Width in cm', fontsize=12)\n",
    "\n",
    "plt.subplot(2, 3, 4)\n",
    "plt.scatter(sepal_width, sepal_length , c = iris_class_colors)\n",
    "plt.xlabel('Sepal Width in cm', fontsize=12)\n",
    "plt.ylabel('Sepal Length in cm', fontsize=12)\n",
    "\n",
    "plt.subplot(2, 3, 5)\n",
    "plt.scatter(sepal_width, petal_length , c = iris_class_colors)\n",
    "plt.xlabel('Sepal Width in cm', fontsize=12)\n",
    "plt.ylabel('Petal Length in cm', fontsize=12)\n",
    "\n",
    "plt.subplot(2, 3, 6)\n",
    "plt.scatter(sepal_width, petal_width , c = iris_class_colors)\n",
    "plt.xlabel('Sepal Width in cm', fontsize=12)\n",
    "plt.ylabel('Petal Width in cm', fontsize=12)\n",
    "\n",
    "plt.show()\n",
    "\n",
    "fig = plt.figure(figsize=(18,12))\n",
    "fig.suptitle('Iris Data (Red = Iris-Setosa, Green = Iris-Versicolor, Blue = Iris-Virginica)', fontsize=24, y = 0.95)\n",
    "\n",
    "plt.subplot(2, 3, 1)\n",
    "plt.scatter(petal_length, sepal_length,c = iris_class_colors)\n",
    "plt.xlabel('Petal Length in cm', fontsize=12)\n",
    "plt.ylabel('Sepal Length in cm', fontsize=12)\n",
    "\n",
    "plt.subplot(2, 3, 2)\n",
    "plt.scatter(petal_length, sepal_width, c = iris_class_colors)\n",
    "plt.xlabel('Petal Length in cm', fontsize=12)\n",
    "plt.ylabel('Sepal Width in cm', fontsize=12)\n",
    "\n",
    "plt.subplot(2, 3, 3)\n",
    "plt.scatter(petal_length, petal_width , c = iris_class_colors)\n",
    "plt.xlabel('Petal Length in cm', fontsize=12)\n",
    "plt.ylabel('Petal Width in cm', fontsize=12)\n",
    "\n",
    "plt.subplot(2, 3, 4)\n",
    "plt.scatter(petal_width, sepal_length, c = iris_class_colors)\n",
    "plt.xlabel('Petal Width in cm', fontsize=12)\n",
    "plt.ylabel('Sepal Length in cm', fontsize=12)\n",
    "\n",
    "plt.subplot(2, 3, 5)\n",
    "plt.scatter(petal_width, sepal_width, c = iris_class_colors)\n",
    "plt.xlabel('Petal Width in cm', fontsize=12)\n",
    "plt.ylabel('Sepal Width in cm', fontsize=12)\n",
    "\n",
    "plt.subplot(2, 3, 6)\n",
    "plt.scatter(petal_width, petal_length, c = iris_class_colors)\n",
    "plt.xlabel('Petal Width in cm', fontsize=12)\n",
    "plt.ylabel('Petal Length in cm', fontsize=12)\n",
    "\n",
    "plt.show()"
   ]
  },
  {
   "cell_type": "code",
   "execution_count": null,
   "metadata": {},
   "outputs": [],
   "source": []
  },
  {
   "cell_type": "code",
   "execution_count": null,
   "metadata": {},
   "outputs": [],
   "source": []
  },
  {
   "cell_type": "code",
   "execution_count": null,
   "metadata": {},
   "outputs": [],
   "source": []
  }
 ],
 "metadata": {
  "kernelspec": {
   "display_name": "Python 3",
   "language": "python",
   "name": "python3"
  },
  "language_info": {
   "codemirror_mode": {
    "name": "ipython",
    "version": 3
   },
   "file_extension": ".py",
   "mimetype": "text/x-python",
   "name": "python",
   "nbconvert_exporter": "python",
   "pygments_lexer": "ipython3",
   "version": "3.7.3"
  }
 },
 "nbformat": 4,
 "nbformat_minor": 2
}
